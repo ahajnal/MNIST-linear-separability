{
  "cells": [
    {
      "cell_type": "code",
      "execution_count": null,
      "metadata": {
        "id": "DngbvglLQ19H"
      },
      "outputs": [],
      "source": [
        "!pip install numpy cvxpy tensorflow\n",
        "import numpy as np # v2.0.2\n",
        "import cvxpy as cp # v1.6.7\n",
        "import tensorflow as tf # v2.19.0, load MNIST"
      ]
    },
    {
      "cell_type": "code",
      "execution_count": null,
      "metadata": {
        "id": "bjfbqXShlV4o"
      },
      "outputs": [],
      "source": [
        "def cvxpy_solve(X, y):\n",
        "    w = cp.Variable(n_features)\n",
        "    b = cp.Variable()\n",
        "    constraints = [cp.multiply(y, X @ w + b) >= 1]\n",
        "    problem = cp.Problem(cp.Minimize(0), constraints)\n",
        "    problem.solve()\n",
        "    return w, b, problem"
      ]
    },
    {
      "cell_type": "code",
      "execution_count": null,
      "metadata": {
        "id": "k__WFC_71R5Y"
      },
      "outputs": [],
      "source": [
        "def print_result(problem, i, j, X, y, w, b):\n",
        "    if problem.status == cp.OPTIMAL or \\\n",
        "       problem.status == cp.OPTIMAL_INACCURATE:\n",
        "        print(f'  YES {i} vs {j} is linearly separable    ',\n",
        "        f'({(y == 1).sum()}/{(y== -1).sum()} samples,',\n",
        "        f'status: {problem.status},',\n",
        "        f'time: {problem.solver_stats.solve_time}s,',\n",
        "        f'solver: {problem.solver_stats.solver_name})')\n",
        "    elif problem.status == cp.INFEASIBLE or \\\n",
        "         problem.status == cp.INFEASIBLE_INACCURATE:\n",
        "        print(f'  NO  {i} vs {j} not is linearly separable',\n",
        "              f'({(y == 1).sum()}/{(y == -1).sum()} samples,',\n",
        "              f'status: {problem.status},',\n",
        "              f'time: {problem.solver_stats.solve_time:.2f}s,',\n",
        "              f'solver: {problem.solver_stats.solver_name})')\n",
        "    else:\n",
        "        print(f'  Unexpected problem status: {problem.status}')"
      ]
    },
    {
      "cell_type": "code",
      "execution_count": null,
      "metadata": {
        "id": "D4iActT-rnC8"
      },
      "outputs": [],
      "source": [
        "def verify_separating_hyperplane(X, y, w, b):\n",
        "    W, B = w.value, b.value\n",
        "    prediction = X @ W + B\n",
        "    preds = np.where(prediction > 0, 1, -1)\n",
        "    TP = np.sum((preds == 1) & (y == 1))\n",
        "    TN = np.sum((preds == -1) & (y == -1))\n",
        "    FP = np.sum((preds == 1) & (y == -1))\n",
        "    FN = np.sum((preds == -1) & (y == 1))\n",
        "    status = 'OK' if TP + TN == len(y) else 'FAILED'\n",
        "    print(f'    check {status} (TP:{TP} TN:{TN} FP:{FP} FN:{FN})')"
      ]
    },
    {
      "cell_type": "code",
      "execution_count": null,
      "metadata": {
        "id": "nWes9ab_tEwL"
      },
      "outputs": [],
      "source": [
        "def pairwise(X, y):\n",
        "    for i in range(9):  # i: one digit\n",
        "        for j in range(i + 1, 10):  # j: the other\n",
        "            mask_i, mask_j = (y == i), (y == j)\n",
        "            X_mod = np.vstack([X[mask_i], X[mask_j]]) # keep: i,j, label: +1/-1\n",
        "            y_mod = np.hstack([np.ones(mask_i.sum()), -np.ones(mask_j.sum())])\n",
        "\n",
        "            w, b, problem = cvxpy_solve(X_mod, y_mod)\n",
        "            print_result(problem, i, j, X_mod, y_mod, w, b)\n",
        "\n",
        "            if problem.status == cp.OPTIMAL_INACCURATE:\n",
        "                verify_separating_hyperplane(X_mod, y_mod, w, b)"
      ]
    },
    {
      "cell_type": "code",
      "execution_count": null,
      "metadata": {
        "id": "FHJYU41_sh_n"
      },
      "outputs": [],
      "source": [
        "def one_vs_rest(X, y):\n",
        "    for i in range(10):  # i: chosen digit\n",
        "        y_mod = np.where(y == i, 1, -1)  # +1 for i, -1 for the rest\n",
        "\n",
        "        w, b, problem = cvxpy_solve(X, y_mod)\n",
        "        print_result(problem, i, 'rest', X, y_mod, w, b)\n",
        "\n",
        "        if problem.status == cp.OPTIMAL_INACCURATE:\n",
        "            verify_separating_hyperplane(X, y_mod, w, b)"
      ]
    },
    {
      "cell_type": "code",
      "execution_count": null,
      "metadata": {
        "id": "lYxQvPVkQ6yC"
      },
      "outputs": [],
      "source": [
        "(X_train, y_train), (X_test, y_test) = \\\n",
        "                tf.keras.datasets.mnist.load_data() # load MNIST train and test\n",
        "n_features = X_train.shape[1] * X_train.shape[2]    # number of features: 784\n",
        "n_train, n_test = X_train.shape[0], X_test.shape[0] # train: 60,000/test: 10,000\n",
        "X_train = X_train.reshape(n_train, n_features)      # one sample per row\n",
        "X_test = X_test.reshape(n_test, n_features)         # one sample per row\n",
        "X_train_test = np.vstack([X_train, X_test])         # combined: 70,000\n",
        "y_train_test = np.hstack([y_train, y_test])         # combined labels"
      ]
    },
    {
      "cell_type": "code",
      "execution_count": null,
      "metadata": {
        "id": "T9xFK5ojaAFs"
      },
      "outputs": [],
      "source": [
        "print('PAIRWISE linear separability of the TRAINING set')\n",
        "pairwise(X_train, y_train)\n",
        "print('PAIRWISE linear separability of the TRAINING + TEST set')\n",
        "pairwise(X_train_test, y_train_test)\n",
        "print('PAIRWISE linear separability of the TEST set')\n",
        "pairwise(X_test, y_test)"
      ]
    },
    {
      "cell_type": "code",
      "execution_count": null,
      "metadata": {
        "id": "eF0f8Th_Q6Uy"
      },
      "outputs": [],
      "source": [
        "print('1-VS-REST linear separability of the TRAINING set')\n",
        "one_vs_rest(X_train, y_train)\n",
        "print('1-VS-REST linear separability of the TRAINING + TEST set')\n",
        "one_vs_rest(X_train_test, y_train_test)\n",
        "print('1-VS-REST linear separability of the TEST set')\n",
        "one_vs_rest(X_test, y_test)"
      ]
    }
  ],
  "metadata": {
    "colab": {
      "provenance": [],
      "gpuType": "T4"
    },
    "kernelspec": {
      "display_name": "Python 3",
      "name": "python3"
    },
    "language_info": {
      "name": "python"
    },
    "accelerator": "GPU"
  },
  "nbformat": 4,
  "nbformat_minor": 0
}